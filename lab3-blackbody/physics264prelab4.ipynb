{
  "nbformat": 4,
  "nbformat_minor": 0,
  "metadata": {
    "colab": {
      "provenance": [],
      "authorship_tag": "ABX9TyMhQDn0LjsAxG2Y1qxGLUeA",
      "include_colab_link": true
    },
    "kernelspec": {
      "name": "python3",
      "display_name": "Python 3"
    },
    "language_info": {
      "name": "python"
    }
  },
  "cells": [
    {
      "cell_type": "markdown",
      "metadata": {
        "id": "view-in-github",
        "colab_type": "text"
      },
      "source": [
        "<a href=\"https://colab.research.google.com/github/zoraizmohammad/optics-modern-notebook/blob/main/lab3-blackbody/physics264prelab4.ipynb\" target=\"_parent\"><img src=\"https://colab.research.google.com/assets/colab-badge.svg\" alt=\"Open In Colab\"/></a>"
      ]
    },
    {
      "cell_type": "markdown",
      "source": [
        "Imports"
      ],
      "metadata": {
        "id": "J0gpf5ykbpIV"
      }
    },
    {
      "cell_type": "code",
      "execution_count": 1,
      "metadata": {
        "id": "E4yM2RkjbZbY"
      },
      "outputs": [],
      "source": [
        "import numpy as np\n",
        "import matplotlib.pyplot as plt"
      ]
    },
    {
      "cell_type": "markdown",
      "source": [
        "Constants"
      ],
      "metadata": {
        "id": "ysYYnUkIb51G"
      }
    },
    {
      "cell_type": "code",
      "source": [
        "h = 6.626e-34  # Planck's constant (J*s)\n",
        "c = 3.0e8      # Speed of light (m/s)\n",
        "kB = 1.38e-23  # Boltzmann constant (J/K)"
      ],
      "metadata": {
        "id": "tjtGvBZMb79e"
      },
      "execution_count": 2,
      "outputs": []
    },
    {
      "cell_type": "markdown",
      "source": [
        "Function to calculate blackbody radiation intensity"
      ],
      "metadata": {
        "id": "6q94i1SQcBrg"
      }
    },
    {
      "cell_type": "code",
      "source": [
        "def blackbody_spectrum(wavelength_nm, T):\n",
        "    wavelength_m = wavelength_nm * 1e-9  # Convert nm to meters\n",
        "    intensity = (2 * np.pi * h * c**2) / (wavelength_m**5 * (np.exp(h * c / (wavelength_m * kB * T)) - 1))\n",
        "    return intensity"
      ],
      "metadata": {
        "id": "ALzEmL6zcGhb"
      },
      "execution_count": 3,
      "outputs": []
    }
  ]
}