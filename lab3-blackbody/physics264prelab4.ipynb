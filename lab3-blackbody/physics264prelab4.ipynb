{
  "nbformat": 4,
  "nbformat_minor": 0,
  "metadata": {
    "colab": {
      "provenance": [],
      "mount_file_id": "1o-kNENReDKwBAHUqN6XktbY608lz7XG9",
      "authorship_tag": "ABX9TyMxrQK/eMMOfenF1RpRLLSW",
      "include_colab_link": true
    },
    "kernelspec": {
      "name": "python3",
      "display_name": "Python 3"
    },
    "language_info": {
      "name": "python"
    }
  },
  "cells": [
    {
      "cell_type": "markdown",
      "metadata": {
        "id": "view-in-github",
        "colab_type": "text"
      },
      "source": [
        "<a href=\"https://colab.research.google.com/github/zoraizmohammad/optics-modern-notebook/blob/main/lab3-blackbody/physics264prelab4.ipynb\" target=\"_parent\"><img src=\"https://colab.research.google.com/assets/colab-badge.svg\" alt=\"Open In Colab\"/></a>"
      ]
    },
    {
      "cell_type": "markdown",
      "source": [
        "Imports"
      ],
      "metadata": {
        "id": "J0gpf5ykbpIV"
      }
    },
    {
      "cell_type": "code",
      "execution_count": 1,
      "metadata": {
        "id": "E4yM2RkjbZbY"
      },
      "outputs": [],
      "source": [
        "import numpy as np\n",
        "import matplotlib.pyplot as plt"
      ]
    },
    {
      "cell_type": "markdown",
      "source": [
        "Constants"
      ],
      "metadata": {
        "id": "ysYYnUkIb51G"
      }
    },
    {
      "cell_type": "code",
      "source": [
        "h = 6.626e-34  # Planck's constant (J*s)\n",
        "c = 3.0e8      # Speed of light (m/s)\n",
        "kB = 1.38e-23  # Boltzmann constant (J/K)\n",
        "T = 3000  # Kelvin"
      ],
      "metadata": {
        "id": "tjtGvBZMb79e"
      },
      "execution_count": 6,
      "outputs": []
    },
    {
      "cell_type": "markdown",
      "source": [
        "Function to calculate blackbody radiation intensity"
      ],
      "metadata": {
        "id": "6q94i1SQcBrg"
      }
    },
    {
      "cell_type": "code",
      "source": [
        "def blackbody_spectrum(wavelength_nm, T):\n",
        "    wavelength_m = wavelength_nm * 1e-9  # Convert nm to meters\n",
        "    intensity = (2 * np.pi * h * c**2) / (wavelength_m**5 * (np.exp(h * c / (wavelength_m * kB * T)) - 1))\n",
        "    return intensity"
      ],
      "metadata": {
        "id": "ALzEmL6zcGhb"
      },
      "execution_count": 3,
      "outputs": []
    },
    {
      "cell_type": "markdown",
      "source": [
        "Function to load filter transmission data"
      ],
      "metadata": {
        "id": "0IXcKZfVcXjs"
      }
    },
    {
      "cell_type": "code",
      "source": [
        "def load_filter_data(filename):\n",
        "    data = np.loadtxt(filename)\n",
        "    wavelength = data[:, 0]  # First column: wavelength in nm\n",
        "    transmission = data[:, 1]  # Second column: transmission value\n",
        "    return wavelength, transmission"
      ],
      "metadata": {
        "id": "n-XMwIvXcZK4"
      },
      "execution_count": 4,
      "outputs": []
    },
    {
      "cell_type": "markdown",
      "source": [
        "Apply filter transmission"
      ],
      "metadata": {
        "id": "Otx9pS4vccAa"
      }
    },
    {
      "cell_type": "code",
      "source": [
        "def apply_filter(wavelength, intensity, transmission):\n",
        "    return intensity * transmission"
      ],
      "metadata": {
        "id": "O98dkjyLcbs4"
      },
      "execution_count": 5,
      "outputs": []
    },
    {
      "cell_type": "markdown",
      "source": [
        "Calculations on wavelenght range and intensities"
      ],
      "metadata": {
        "id": "nQkffZkCdX1c"
      }
    },
    {
      "cell_type": "code",
      "source": [
        "wavelengths = np.linspace(300, 1100, 1000)  # nm\n",
        "intensities = blackbody_spectrum(wavelengths, T)"
      ],
      "metadata": {
        "id": "gaYYvzeFcwg8"
      },
      "execution_count": null,
      "outputs": []
    },
    {
      "cell_type": "markdown",
      "source": [
        "Load Data"
      ],
      "metadata": {
        "id": "jLu4OCugc0WG"
      }
    },
    {
      "cell_type": "code",
      "source": [
        "internals = {\"Red\": \"/content/drive/MyDrive/phy264/lab3info/Basler_red.txt\", \"Green\": \"/content/drive/MyDrive/phy264/lab3info/Basler_green.txt\", \"Blue\": \"/content/drive/MyDrive/phy264/lab3info/Basler_blue.txt\"}\n",
        "externals = {\"Red\": \"/content/drive/MyDrive/phy264/lab3info/FB650-40.txt\", \"Green\": \"/content/drive/MyDrive/phy264/lab3info/FB550-40.txt\", \"Blue\": \"/content/drive/MyDrive/phy264/lab3info/FB450-40.txt\"}\n",
        "\n",
        "filtered_spectra = {}"
      ],
      "metadata": {
        "id": "ZorUZOhdc18B"
      },
      "execution_count": 7,
      "outputs": []
    }
  ]
}