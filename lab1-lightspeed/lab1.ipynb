{
  "nbformat": 4,
  "nbformat_minor": 0,
  "metadata": {
    "colab": {
      "provenance": [],
      "authorship_tag": "ABX9TyN6OrWa4XAUHndGqV6ZbNVb",
      "include_colab_link": true
    },
    "kernelspec": {
      "name": "python3",
      "display_name": "Python 3"
    },
    "language_info": {
      "name": "python"
    }
  },
  "cells": [
    {
      "cell_type": "markdown",
      "metadata": {
        "id": "view-in-github",
        "colab_type": "text"
      },
      "source": [
        "<a href=\"https://colab.research.google.com/github/zoraizmohammad/optics-modern-notebook/blob/main/lab1-lightspeed/lab1.ipynb\" target=\"_parent\"><img src=\"https://colab.research.google.com/assets/colab-badge.svg\" alt=\"Open In Colab\"/></a>"
      ]
    },
    {
      "cell_type": "markdown",
      "source": [
        "## Lab 1\n",
        "### Completed By: Mohammad Zoraiz"
      ],
      "metadata": {
        "id": "EymYgLqy1xdi"
      }
    },
    {
      "cell_type": "markdown",
      "source": [
        "Imports"
      ],
      "metadata": {
        "id": "LPjHoMh51vkA"
      }
    },
    {
      "cell_type": "code",
      "execution_count": 1,
      "metadata": {
        "id": "5Utm8wVX1tr4"
      },
      "outputs": [],
      "source": [
        "import numpy as np\n",
        "import matplotlib.pyplot as plt\n",
        "from PIL import Image\n",
        "import re\n",
        "from scipy.optimize import curve_fit"
      ]
    },
    {
      "cell_type": "markdown",
      "source": [
        "Function Definitions"
      ],
      "metadata": {
        "id": "3qJnjxUN_KbI"
      }
    },
    {
      "cell_type": "code",
      "source": [],
      "metadata": {
        "id": "ZseJZJA8_MCW"
      },
      "execution_count": null,
      "outputs": []
    },
    {
      "cell_type": "markdown",
      "source": [
        "Plotting Positions"
      ],
      "metadata": {
        "id": "rzdjEFBq-6eC"
      }
    },
    {
      "cell_type": "code",
      "source": [],
      "metadata": {
        "id": "Tj-z2Ph2_Hxb"
      },
      "execution_count": null,
      "outputs": []
    },
    {
      "cell_type": "markdown",
      "source": [
        "Printing Parameters"
      ],
      "metadata": {
        "id": "HO6OZ0fR52pS"
      }
    },
    {
      "cell_type": "code",
      "source": [
        "print(f\"Fitting Parameters for Vertical Position: A = {popt_y[0]:.3f}, B = {popt_y[1]:.3f}\")\n",
        "print(f\"Fitting Parameters for Horizontal Position: A = {popt_x[0]:.3f}, B = {popt_x[1]:.3f}\")"
      ],
      "metadata": {
        "id": "UtBGIkBV-82U"
      },
      "execution_count": null,
      "outputs": []
    }
  ]
}